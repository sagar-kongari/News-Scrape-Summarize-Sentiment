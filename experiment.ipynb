{
 "cells": [
  {
   "attachments": {},
   "cell_type": "markdown",
   "metadata": {},
   "source": [
    "### 1. Import Dependencies"
   ]
  },
  {
   "cell_type": "code",
   "execution_count": 13,
   "metadata": {},
   "outputs": [],
   "source": [
    "# !pip install transformers\n",
    "\n",
    "# to scrape websites\n",
    "import requests\n",
    "from bs4 import BeautifulSoup\n",
    "\n",
    "# for text operation\n",
    "import tensorflow as tf\n",
    "from transformers import PegasusTokenizer, PegasusForConditionalGeneration"
   ]
  },
  {
   "attachments": {},
   "cell_type": "markdown",
   "metadata": {},
   "source": [
    "### 2. Setup Model (summarization)"
   ]
  },
  {
   "cell_type": "code",
   "execution_count": 2,
   "metadata": {},
   "outputs": [],
   "source": [
    "# Pegasus - huggingface library model trained and built for financial texts.\n",
    "model_name = \"human-centered-summarization/financial-summarization-pegasus\"\n",
    "tokenizer = PegasusTokenizer.from_pretrained(model_name)\n",
    "model = PegasusForConditionalGeneration.from_pretrained(model_name)"
   ]
  },
  {
   "attachments": {},
   "cell_type": "markdown",
   "metadata": {},
   "source": [
    "### 3. Test a Single Article"
   ]
  },
  {
   "cell_type": "code",
   "execution_count": 8,
   "metadata": {},
   "outputs": [],
   "source": [
    "url = \"https://finance.yahoo.com/news/india-stocks-indian-shares-drop-103315194.html\"\n",
    "r = requests.get(url)\n",
    "soup = BeautifulSoup(r.text, 'html.parser')\n",
    "paragraph = soup.find_all('p')"
   ]
  },
  {
   "cell_type": "code",
   "execution_count": 9,
   "metadata": {},
   "outputs": [
    {
     "data": {
      "text/plain": [
       "[<p>(Updates closing levels in paragraph 2, adds fresh analysts' comments)</p>,\n",
       " <p>By Bharath Rajeswaran</p>,\n",
       " <p>BENGALURU, May 18 (Reuters) - Indian shares reversed course to finish lower on Thursday, as declines in the stocks of State Bank of India Ltd and ITC Ltd added to the pressure of investors booking profits after an upbeat start to the session.</p>,\n",
       " <p>The Nifty 50 closed 0.28% down at 18,129.95, falling for the third session in a row, while the 30-member S&amp;P BSE Sensex fell 0.21% to 61,431.74.</p>,\n",
       " <p>The benchmarks opened higher and gained over 0.6% during the session on optimism that the United States was close to a deal to raise its debt ceiling.</p>,\n",
       " <p>However, that soon faded as traders booked profits, much like the previous two sessions following a gain of nearly 4% since mid-April when the earnings season started. The Nifty 50 hit a five-month high on Monday.</p>,\n",
       " <p>\"It's a healthy consolidation in markets,\" said Ajit Mishra, vice president of technical research at Religare Broking, referring to the slide in the last three sessions.</p>,\n",
       " <p>Ten of the 13 sectoral indexes declined, with public sector banks losing nearly 2%.</p>,\n",
       " <p>State Bank of India Ltd and ITC Ltd both fell about 2%, despite beating fourth-quarter profit estimates. They were were among the top Nifty 50 losers.</p>,\n",
       " <p>For the Nifty, 18,050 is a crucial support, a breach of which could trigger a further slide, while it could face selling pressure at a resistance level of 18,450, said Deepak Jasani, head of retail research at HDFC Securities.</p>,\n",
       " <p>The weekly derivatives expiry also added to the volatility in markets on Thursday, said Ameya Ranadive, equity research analyst at Choice Broking. ($1 = 81.7800 Indian rupees) (Reporting by Bharath Rajeswaran in Bengaluru; Editing by Savio D'Souza)</p>]"
      ]
     },
     "execution_count": 9,
     "metadata": {},
     "output_type": "execute_result"
    }
   ],
   "source": [
    "paragraph"
   ]
  },
  {
   "cell_type": "code",
   "execution_count": 10,
   "metadata": {},
   "outputs": [],
   "source": [
    "# Clean text\n",
    "text = [para.text for para in paragraph]\n",
    "words = ' '.join(text).split(' ')[:400]\n",
    "art = ' '.join(words)"
   ]
  },
  {
   "cell_type": "code",
   "execution_count": 11,
   "metadata": {},
   "outputs": [
    {
     "data": {
      "text/plain": [
       "'(Updates closing levels in paragraph 2, adds fresh analysts\\' comments) By Bharath Rajeswaran BENGALURU, May 18 (Reuters) - Indian shares reversed course to finish lower on Thursday, as declines in the stocks of State Bank of India Ltd and ITC Ltd added to the pressure of investors booking profits after an upbeat start to the session. The Nifty 50 closed 0.28% down at 18,129.95, falling for the third session in a row, while the 30-member S&P BSE Sensex fell 0.21% to 61,431.74. The benchmarks opened higher and gained over 0.6% during the session on optimism that the United States was close to a deal to raise its debt ceiling. However, that soon faded as traders booked profits, much like the previous two sessions following a gain of nearly 4% since mid-April when the earnings season started. The Nifty 50 hit a five-month high on Monday. \"It\\'s a healthy consolidation in markets,\" said Ajit Mishra, vice president of technical research at Religare Broking, referring to the slide in the last three sessions. Ten of the 13 sectoral indexes declined, with public sector banks losing nearly 2%. State Bank of India Ltd and ITC Ltd both fell about 2%, despite beating fourth-quarter profit estimates. They were were among the top Nifty 50 losers. For the Nifty, 18,050 is a crucial support, a breach of which could trigger a further slide, while it could face selling pressure at a resistance level of 18,450, said Deepak Jasani, head of retail research at HDFC Securities. The weekly derivatives expiry also added to the volatility in markets on Thursday, said Ameya Ranadive, equity research analyst at Choice Broking. ($1 = 81.7800 Indian rupees) (Reporting by Bharath Rajeswaran in Bengaluru; Editing by Savio D\\'Souza)'"
      ]
     },
     "execution_count": 11,
     "metadata": {},
     "output_type": "execute_result"
    }
   ],
   "source": [
    "# removed tags, end lines, etc.\n",
    "art"
   ]
  },
  {
   "cell_type": "code",
   "execution_count": 16,
   "metadata": {},
   "outputs": [],
   "source": [
    "# Creating summary\n",
    "input_text = tokenizer.encode(art, return_tensors='pt')\n",
    "output = model.generate(input_text, max_length=55, num_beams=5, early_stopping=True)\n",
    "summary = tokenizer.decode(output[0], skip_special_tokens=True)"
   ]
  },
  {
   "cell_type": "code",
   "execution_count": 17,
   "metadata": {},
   "outputs": [
    {
     "data": {
      "text/plain": [
       "'Shares of State Bank of India and ITC fall after earnings reports'"
      ]
     },
     "execution_count": 17,
     "metadata": {},
     "output_type": "execute_result"
    }
   ],
   "source": [
    "# summarized text\n",
    "summary"
   ]
  },
  {
   "attachments": {},
   "cell_type": "markdown",
   "metadata": {},
   "source": [
    "### 4. Building Pipeline (scrape news &rarr; summarize text &rarr; sentiment)"
   ]
  },
  {
   "cell_type": "code",
   "execution_count": 18,
   "metadata": {},
   "outputs": [],
   "source": [
    "# creating a list of topics to be scraped\n",
    "topics = ['SBI', 'HDFC']"
   ]
  },
  {
   "attachments": {},
   "cell_type": "markdown",
   "metadata": {},
   "source": [
    "##### 4.1 Define a function to search for news using google and yahoo-finance"
   ]
  },
  {
   "cell_type": "code",
   "execution_count": 20,
   "metadata": {},
   "outputs": [],
   "source": [
    "# search for \"a\" tags which contains hrefs i.e. urls\n",
    "def search_urls(topic):\n",
    "    search_url = \"https://www.google.com/search?q=yahoo+finance+{}&tbm=nws\".format(topic)\n",
    "    r = requests.get(search_url)\n",
    "    soup = BeautifulSoup(r.text, 'html.parser')\n",
    "    atags = soup.find_all('a')\n",
    "    hrefs = [link['href'] for link in atags]\n",
    "    return hrefs"
   ]
  },
  {
   "cell_type": "code",
   "execution_count": 21,
   "metadata": {},
   "outputs": [],
   "source": [
    "raw_urls = {topic:search_urls(topic) for topic in topics}"
   ]
  },
  {
   "cell_type": "code",
   "execution_count": 24,
   "metadata": {},
   "outputs": [
    {
     "data": {
      "text/plain": [
       "{'SBI': ['/?sa=X&ved=0ahUKEwiJ-MG9ovL_AhXJJbkGHTUFAe8QOwgC',\n",
       "  '/search?q=yahoo+finance+SBI&tbm=nws&ie=UTF-8&gbv=1&sei=35qiZMmMLcnL5OUPtYqE-A4',\n",
       "  '/search?q=yahoo+finance+SBI&ie=UTF-8&source=lnms&sa=X&ved=0ahUKEwiJ-MG9ovL_AhXJJbkGHTUFAe8Q_AUIBSgA',\n",
       "  '/search?q=yahoo+finance+SBI&ie=UTF-8&tbm=vid&source=lnms&sa=X&ved=0ahUKEwiJ-MG9ovL_AhXJJbkGHTUFAe8Q_AUIBygC',\n",
       "  '/search?q=yahoo+finance+SBI&ie=UTF-8&tbm=bks&source=lnms&sa=X&ved=0ahUKEwiJ-MG9ovL_AhXJJbkGHTUFAe8Q_AUICCgD',\n",
       "  '/search?q=yahoo+finance+SBI&ie=UTF-8&tbm=isch&source=lnms&sa=X&ved=0ahUKEwiJ-MG9ovL_AhXJJbkGHTUFAe8Q_AUICSgE',\n",
       "  'https://maps.google.com/maps?q=yahoo+finance+SBI&um=1&ie=UTF-8&sa=X&ved=0ahUKEwiJ-MG9ovL_AhXJJbkGHTUFAe8Q_AUICigF',\n",
       "  '/search?q=yahoo+finance+SBI&ie=UTF-8&tbm=shop&source=lnms&sa=X&ved=0ahUKEwiJ-MG9ovL_AhXJJbkGHTUFAe8Q_AUICygG',\n",
       "  '/advanced_search',\n",
       "  '/search?q=yahoo+finance+SBI&ie=UTF-8&tbm=nws&source=lnt&tbs=qdr:h&sa=X&ved=0ahUKEwiJ-MG9ovL_AhXJJbkGHTUFAe8QpwUIDQ',\n",
       "  '/search?q=yahoo+finance+SBI&ie=UTF-8&tbm=nws&source=lnt&tbs=qdr:d&sa=X&ved=0ahUKEwiJ-MG9ovL_AhXJJbkGHTUFAe8QpwUIDg',\n",
       "  '/search?q=yahoo+finance+SBI&ie=UTF-8&tbm=nws&source=lnt&tbs=qdr:w&sa=X&ved=0ahUKEwiJ-MG9ovL_AhXJJbkGHTUFAe8QpwUIDw',\n",
       "  '/search?q=yahoo+finance+SBI&ie=UTF-8&tbm=nws&source=lnt&tbs=qdr:m&sa=X&ved=0ahUKEwiJ-MG9ovL_AhXJJbkGHTUFAe8QpwUIEA',\n",
       "  '/search?q=yahoo+finance+SBI&ie=UTF-8&tbm=nws&source=lnt&tbs=qdr:y&sa=X&ved=0ahUKEwiJ-MG9ovL_AhXJJbkGHTUFAe8QpwUIEQ',\n",
       "  '/search?q=yahoo+finance+SBI&ie=UTF-8&tbm=nws&source=lnt&tbs=ar:1&sa=X&ved=0ahUKEwiJ-MG9ovL_AhXJJbkGHTUFAe8QpwUIEg',\n",
       "  '/search?q=yahoo+finance+SBI&ie=UTF-8&tbm=nws&source=lnt&tbs=sbd:1&sa=X&ved=0ahUKEwiJ-MG9ovL_AhXJJbkGHTUFAe8QpwUIFA',\n",
       "  '/url?q=https://finance.yahoo.com/news/japans-sbi-holdings-raises-stakes-035049208.html&sa=U&ved=2ahUKEwiJ-MG9ovL_AhXJJbkGHTUFAe8QxfQBegQIBxAC&usg=AOvVaw0rmzS2g83S0M7aShDoM5iE',\n",
       "  '/url?q=https://finance.yahoo.com/news/sbi-forms-joint-venture-set-092620906.html&sa=U&ved=2ahUKEwiJ-MG9ovL_AhXJJbkGHTUFAe8QxfQBegQICRAC&usg=AOvVaw3nvzU1LDODoJP3vYtb0wXl',\n",
       "  '/url?q=https://finance.yahoo.com/news/qcp-capital-sbi-alpha-execute-113000676.html&sa=U&ved=2ahUKEwiJ-MG9ovL_AhXJJbkGHTUFAe8QxfQBegQIAxAC&usg=AOvVaw369ADh9m02hdheadfB9WyG',\n",
       "  '/url?q=https://finance.yahoo.com/news/sepsis-market-size-share-grow-170000301.html&sa=U&ved=2ahUKEwiJ-MG9ovL_AhXJJbkGHTUFAe8QxfQBegQIARAC&usg=AOvVaw3sY1F2gjd74WMhJ9TUK0oB',\n",
       "  '/url?q=https://finance.yahoo.com/news/singapore-outlines-design-framework-interoperable-083244040.html&sa=U&ved=2ahUKEwiJ-MG9ovL_AhXJJbkGHTUFAe8QxfQBegQIBBAC&usg=AOvVaw3ANAv7ccRIITfLlDGPKY9F',\n",
       "  '/url?q=https://finance.yahoo.com/news/condom-maker-draws-rush-buy-013000156.html&sa=U&ved=2ahUKEwiJ-MG9ovL_AhXJJbkGHTUFAe8QxfQBegQIBRAC&usg=AOvVaw2j9BPmjTdARvm9VHViS7Qp',\n",
       "  '/url?q=https://finance.yahoo.com/news/blockfills-integrates-zodia-custody-fulfill-140000019.html&sa=U&ved=2ahUKEwiJ-MG9ovL_AhXJJbkGHTUFAe8QxfQBegQICBAC&usg=AOvVaw1KCuKVrMc8hpjWRulklSaO',\n",
       "  '/url?q=https://finance.yahoo.com/news/cellusion-raises-2-83-billion-020000523.html&sa=U&ved=2ahUKEwiJ-MG9ovL_AhXJJbkGHTUFAe8QxfQBegQIABAC&usg=AOvVaw0AaRUeO6I9uvO9LVlV8AdK',\n",
       "  '/url?q=https://finance.yahoo.com/news/toyota-braces-investor-admonition-over-150100479.html&sa=U&ved=2ahUKEwiJ-MG9ovL_AhXJJbkGHTUFAe8QxfQBegQIBhAC&usg=AOvVaw0DBsOntgfnAB9HUXfAfRMP',\n",
       "  '/url?q=https://finance.yahoo.com/news/bioprocess-technology-global-market-report-100400496.html&sa=U&ved=2ahUKEwiJ-MG9ovL_AhXJJbkGHTUFAe8QxfQBegQIAhAC&usg=AOvVaw0Eb1ETOk5ev0JeLlnwV-vv',\n",
       "  '/search?q=yahoo+finance+SBI&ie=UTF-8&tbm=nws&ei=35qiZMmMLcnL5OUPtYqE-A4&start=10&sa=N',\n",
       "  '/url?q=https://support.google.com/websearch%3Fp%3Dws_settings_location%26hl%3Den-IN&sa=U&ved=0ahUKEwiJ-MG9ovL_AhXJJbkGHTUFAe8Qty4IUw&usg=AOvVaw279wliDROhuPwDvVg2bBhO',\n",
       "  '/url?q=https://accounts.google.com/ServiceLogin%3Fcontinue%3Dhttps://www.google.com/search%253Fq%253Dyahoo%252Bfinance%252BSBI%2526tbm%253Dnws%26hl%3Den&sa=U&ved=0ahUKEwiJ-MG9ovL_AhXJJbkGHTUFAe8Qxs8CCFQ&usg=AOvVaw2yupUzwMeN3glMD3e2eg3J',\n",
       "  'https://www.google.com/preferences?hl=en-IN&fg=1&sa=X&ved=0ahUKEwiJ-MG9ovL_AhXJJbkGHTUFAe8Q5fUCCFU',\n",
       "  'https://policies.google.com/privacy?hl=en-IN&fg=1',\n",
       "  'https://policies.google.com/terms?hl=en-IN&fg=1',\n",
       "  '/setprefs?hl=en&prev=https://www.google.com/search?q%3Dyahoo%2Bfinance%2BSBI%26tbm%3Dnws%26pccc%3D1&sig=0_tVrVnQxxGzKf9ZKb9tNx2WSV-O8%3D&cs=2&sa=X&ved=0ahUKEwiJ-MG9ovL_AhXJJbkGHTUFAe8QjcAJCFY'],\n",
       " 'HDFC': ['/?sa=X&ved=0ahUKEwjS95W-ovL_AhURILkGHdhsDfsQOwgC',\n",
       "  '/search?q=yahoo+finance+HDFC&tbm=nws&ie=UTF-8&gbv=1&sei=4ZqiZJKDB5HA5OUP2Nm12A8',\n",
       "  '/search?q=yahoo+finance+HDFC&ie=UTF-8&source=lnms&sa=X&ved=0ahUKEwjS95W-ovL_AhURILkGHdhsDfsQ_AUIBSgA',\n",
       "  '/search?q=yahoo+finance+HDFC&ie=UTF-8&tbm=isch&source=lnms&sa=X&ved=0ahUKEwjS95W-ovL_AhURILkGHdhsDfsQ_AUIBygC',\n",
       "  '/search?q=yahoo+finance+HDFC&ie=UTF-8&tbm=bks&source=lnms&sa=X&ved=0ahUKEwjS95W-ovL_AhURILkGHdhsDfsQ_AUICCgD',\n",
       "  'https://maps.google.com/maps?q=yahoo+finance+HDFC&um=1&ie=UTF-8&sa=X&ved=0ahUKEwjS95W-ovL_AhURILkGHdhsDfsQ_AUICSgE',\n",
       "  '/search?q=yahoo+finance+HDFC&ie=UTF-8&tbm=vid&source=lnms&sa=X&ved=0ahUKEwjS95W-ovL_AhURILkGHdhsDfsQ_AUICigF',\n",
       "  '/search?q=yahoo+finance+HDFC&ie=UTF-8&tbm=shop&source=lnms&sa=X&ved=0ahUKEwjS95W-ovL_AhURILkGHdhsDfsQ_AUICygG',\n",
       "  '/advanced_search',\n",
       "  '/search?q=yahoo+finance+HDFC&ie=UTF-8&tbm=nws&source=lnt&tbs=qdr:h&sa=X&ved=0ahUKEwjS95W-ovL_AhURILkGHdhsDfsQpwUIDQ',\n",
       "  '/search?q=yahoo+finance+HDFC&ie=UTF-8&tbm=nws&source=lnt&tbs=qdr:d&sa=X&ved=0ahUKEwjS95W-ovL_AhURILkGHdhsDfsQpwUIDg',\n",
       "  '/search?q=yahoo+finance+HDFC&ie=UTF-8&tbm=nws&source=lnt&tbs=qdr:w&sa=X&ved=0ahUKEwjS95W-ovL_AhURILkGHdhsDfsQpwUIDw',\n",
       "  '/search?q=yahoo+finance+HDFC&ie=UTF-8&tbm=nws&source=lnt&tbs=qdr:m&sa=X&ved=0ahUKEwjS95W-ovL_AhURILkGHdhsDfsQpwUIEA',\n",
       "  '/search?q=yahoo+finance+HDFC&ie=UTF-8&tbm=nws&source=lnt&tbs=qdr:y&sa=X&ved=0ahUKEwjS95W-ovL_AhURILkGHdhsDfsQpwUIEQ',\n",
       "  '/search?q=yahoo+finance+HDFC&ie=UTF-8&tbm=nws&source=lnt&tbs=ar:1&sa=X&ved=0ahUKEwjS95W-ovL_AhURILkGHdhsDfsQpwUIEg',\n",
       "  '/search?q=yahoo+finance+HDFC&ie=UTF-8&tbm=nws&source=lnt&tbs=sbd:1&sa=X&ved=0ahUKEwjS95W-ovL_AhURILkGHdhsDfsQpwUIFA',\n",
       "  '/url?q=https://finance.yahoo.com/news/india-set-168-billion-finance-050459320.html&sa=U&ved=2ahUKEwjS95W-ovL_AhURILkGHdhsDfsQxfQBegQIAxAC&usg=AOvVaw21Ynjnadh8WajRFBJ37j2l',\n",
       "  '/url?q=https://finance.yahoo.com/news/hdfc-hdfc-bank-173-billion-091809051.html&sa=U&ved=2ahUKEwjS95W-ovL_AhURILkGHdhsDfsQxfQBegQICRAC&usg=AOvVaw1VMIdnzzwcS6YRxpL5hB7w',\n",
       "  '/url?q=https://sg.news.yahoo.com/indias-hdfc-bank-record-high-073100771.html&sa=U&ved=2ahUKEwjS95W-ovL_AhURILkGHdhsDfsQxfQBegQIBBAC&usg=AOvVaw0pvmlBkBshmZRc4s1rgbNB',\n",
       "  '/url?q=https://uk.style.yahoo.com/indias-hdfc-hdfc-bank-merger-092647197.html&sa=U&ved=2ahUKEwjS95W-ovL_AhURILkGHdhsDfsQxfQBegQICBAC&usg=AOvVaw1Duz-V_CceIlCP45Yvz3xc',\n",
       "  '/url?q=https://sg.finance.yahoo.com/news/rbi-relaxes-restrictions-hdfc-credila-142737855.html&sa=U&ved=2ahUKEwjS95W-ovL_AhURILkGHdhsDfsQxfQBegQIAhAC&usg=AOvVaw0wVFLJeOuVLnwCN7z0USfc',\n",
       "  '/url?q=https://finance.yahoo.com/news/monumental-monday-nifty-tops-19-003002000.html&sa=U&ved=2ahUKEwjS95W-ovL_AhURILkGHdhsDfsQxfQBegQIBhAC&usg=AOvVaw0olv2T_OiwJTt5aofgidCQ',\n",
       "  '/url?q=https://sg.finance.yahoo.com/news/hdfc-sell-90-stake-education-023605676.html&sa=U&ved=2ahUKEwjS95W-ovL_AhURILkGHdhsDfsQxfQBegQIBxAC&usg=AOvVaw0Cai0HSeK0U1l4fjYhCFwK',\n",
       "  '/url?q=https://finance.yahoo.com/news/personal-loans-market-grow-cagr-071500907.html&sa=U&ved=2ahUKEwjS95W-ovL_AhURILkGHdhsDfsQxfQBegQIABAC&usg=AOvVaw0z6etbTLq0o7hnyGgaFpZg',\n",
       "  '/url?q=https://finance.yahoo.com/news/nifty-sensex-hit-life-peaks-011002671.html&sa=U&ved=2ahUKEwjS95W-ovL_AhURILkGHdhsDfsQxfQBegQIARAC&usg=AOvVaw25p8BIOa87rUmGOoY1g5u0',\n",
       "  '/url?q=https://sg.news.yahoo.com/analysis-hdfc-bank-hdfc-merger-080652629.html&sa=U&ved=2ahUKEwjS95W-ovL_AhURILkGHdhsDfsQxfQBegQIBRAC&usg=AOvVaw1XpMjfR5CupmBj_H5yE1O5',\n",
       "  '/search?q=yahoo+finance+HDFC&ie=UTF-8&tbm=nws&ei=4ZqiZJKDB5HA5OUP2Nm12A8&start=10&sa=N',\n",
       "  '/url?q=https://support.google.com/websearch%3Fp%3Dws_settings_location%26hl%3Den-IN&sa=U&ved=0ahUKEwjS95W-ovL_AhURILkGHdhsDfsQty4IUw&usg=AOvVaw2zAbsPjICT1FHiOmQindg9',\n",
       "  '/url?q=https://accounts.google.com/ServiceLogin%3Fcontinue%3Dhttps://www.google.com/search%253Fq%253Dyahoo%252Bfinance%252BHDFC%2526tbm%253Dnws%26hl%3Den&sa=U&ved=0ahUKEwjS95W-ovL_AhURILkGHdhsDfsQxs8CCFQ&usg=AOvVaw1YeEfad8UAk1i_JQ5lOx0D',\n",
       "  'https://www.google.com/preferences?hl=en-IN&fg=1&sa=X&ved=0ahUKEwjS95W-ovL_AhURILkGHdhsDfsQ5fUCCFU',\n",
       "  'https://policies.google.com/privacy?hl=en-IN&fg=1',\n",
       "  'https://policies.google.com/terms?hl=en-IN&fg=1',\n",
       "  '/setprefs?hl=en&prev=https://www.google.com/search?q%3Dyahoo%2Bfinance%2BHDFC%26tbm%3Dnws%26pccc%3D1&sig=0_f9p8gbSjZSR68d8EyFRokXf3NVQ%3D&cs=2&sa=X&ved=0ahUKEwjS95W-ovL_AhURILkGHdhsDfsQjcAJCFY']}"
      ]
     },
     "execution_count": 24,
     "metadata": {},
     "output_type": "execute_result"
    }
   ],
   "source": [
    "# Every item under a tag.\n",
    "raw_urls"
   ]
  },
  {
   "cell_type": "code",
   "execution_count": 25,
   "metadata": {},
   "outputs": [
    {
     "data": {
      "text/plain": [
       "['/?sa=X&ved=0ahUKEwiJ-MG9ovL_AhXJJbkGHTUFAe8QOwgC',\n",
       " '/search?q=yahoo+finance+SBI&tbm=nws&ie=UTF-8&gbv=1&sei=35qiZMmMLcnL5OUPtYqE-A4',\n",
       " '/search?q=yahoo+finance+SBI&ie=UTF-8&source=lnms&sa=X&ved=0ahUKEwiJ-MG9ovL_AhXJJbkGHTUFAe8Q_AUIBSgA',\n",
       " '/search?q=yahoo+finance+SBI&ie=UTF-8&tbm=vid&source=lnms&sa=X&ved=0ahUKEwiJ-MG9ovL_AhXJJbkGHTUFAe8Q_AUIBygC',\n",
       " '/search?q=yahoo+finance+SBI&ie=UTF-8&tbm=bks&source=lnms&sa=X&ved=0ahUKEwiJ-MG9ovL_AhXJJbkGHTUFAe8Q_AUICCgD',\n",
       " '/search?q=yahoo+finance+SBI&ie=UTF-8&tbm=isch&source=lnms&sa=X&ved=0ahUKEwiJ-MG9ovL_AhXJJbkGHTUFAe8Q_AUICSgE',\n",
       " 'https://maps.google.com/maps?q=yahoo+finance+SBI&um=1&ie=UTF-8&sa=X&ved=0ahUKEwiJ-MG9ovL_AhXJJbkGHTUFAe8Q_AUICigF',\n",
       " '/search?q=yahoo+finance+SBI&ie=UTF-8&tbm=shop&source=lnms&sa=X&ved=0ahUKEwiJ-MG9ovL_AhXJJbkGHTUFAe8Q_AUICygG',\n",
       " '/advanced_search',\n",
       " '/search?q=yahoo+finance+SBI&ie=UTF-8&tbm=nws&source=lnt&tbs=qdr:h&sa=X&ved=0ahUKEwiJ-MG9ovL_AhXJJbkGHTUFAe8QpwUIDQ',\n",
       " '/search?q=yahoo+finance+SBI&ie=UTF-8&tbm=nws&source=lnt&tbs=qdr:d&sa=X&ved=0ahUKEwiJ-MG9ovL_AhXJJbkGHTUFAe8QpwUIDg',\n",
       " '/search?q=yahoo+finance+SBI&ie=UTF-8&tbm=nws&source=lnt&tbs=qdr:w&sa=X&ved=0ahUKEwiJ-MG9ovL_AhXJJbkGHTUFAe8QpwUIDw',\n",
       " '/search?q=yahoo+finance+SBI&ie=UTF-8&tbm=nws&source=lnt&tbs=qdr:m&sa=X&ved=0ahUKEwiJ-MG9ovL_AhXJJbkGHTUFAe8QpwUIEA',\n",
       " '/search?q=yahoo+finance+SBI&ie=UTF-8&tbm=nws&source=lnt&tbs=qdr:y&sa=X&ved=0ahUKEwiJ-MG9ovL_AhXJJbkGHTUFAe8QpwUIEQ',\n",
       " '/search?q=yahoo+finance+SBI&ie=UTF-8&tbm=nws&source=lnt&tbs=ar:1&sa=X&ved=0ahUKEwiJ-MG9ovL_AhXJJbkGHTUFAe8QpwUIEg',\n",
       " '/search?q=yahoo+finance+SBI&ie=UTF-8&tbm=nws&source=lnt&tbs=sbd:1&sa=X&ved=0ahUKEwiJ-MG9ovL_AhXJJbkGHTUFAe8QpwUIFA',\n",
       " '/url?q=https://finance.yahoo.com/news/japans-sbi-holdings-raises-stakes-035049208.html&sa=U&ved=2ahUKEwiJ-MG9ovL_AhXJJbkGHTUFAe8QxfQBegQIBxAC&usg=AOvVaw0rmzS2g83S0M7aShDoM5iE',\n",
       " '/url?q=https://finance.yahoo.com/news/sbi-forms-joint-venture-set-092620906.html&sa=U&ved=2ahUKEwiJ-MG9ovL_AhXJJbkGHTUFAe8QxfQBegQICRAC&usg=AOvVaw3nvzU1LDODoJP3vYtb0wXl',\n",
       " '/url?q=https://finance.yahoo.com/news/qcp-capital-sbi-alpha-execute-113000676.html&sa=U&ved=2ahUKEwiJ-MG9ovL_AhXJJbkGHTUFAe8QxfQBegQIAxAC&usg=AOvVaw369ADh9m02hdheadfB9WyG',\n",
       " '/url?q=https://finance.yahoo.com/news/sepsis-market-size-share-grow-170000301.html&sa=U&ved=2ahUKEwiJ-MG9ovL_AhXJJbkGHTUFAe8QxfQBegQIARAC&usg=AOvVaw3sY1F2gjd74WMhJ9TUK0oB',\n",
       " '/url?q=https://finance.yahoo.com/news/singapore-outlines-design-framework-interoperable-083244040.html&sa=U&ved=2ahUKEwiJ-MG9ovL_AhXJJbkGHTUFAe8QxfQBegQIBBAC&usg=AOvVaw3ANAv7ccRIITfLlDGPKY9F',\n",
       " '/url?q=https://finance.yahoo.com/news/condom-maker-draws-rush-buy-013000156.html&sa=U&ved=2ahUKEwiJ-MG9ovL_AhXJJbkGHTUFAe8QxfQBegQIBRAC&usg=AOvVaw2j9BPmjTdARvm9VHViS7Qp',\n",
       " '/url?q=https://finance.yahoo.com/news/blockfills-integrates-zodia-custody-fulfill-140000019.html&sa=U&ved=2ahUKEwiJ-MG9ovL_AhXJJbkGHTUFAe8QxfQBegQICBAC&usg=AOvVaw1KCuKVrMc8hpjWRulklSaO',\n",
       " '/url?q=https://finance.yahoo.com/news/cellusion-raises-2-83-billion-020000523.html&sa=U&ved=2ahUKEwiJ-MG9ovL_AhXJJbkGHTUFAe8QxfQBegQIABAC&usg=AOvVaw0AaRUeO6I9uvO9LVlV8AdK',\n",
       " '/url?q=https://finance.yahoo.com/news/toyota-braces-investor-admonition-over-150100479.html&sa=U&ved=2ahUKEwiJ-MG9ovL_AhXJJbkGHTUFAe8QxfQBegQIBhAC&usg=AOvVaw0DBsOntgfnAB9HUXfAfRMP',\n",
       " '/url?q=https://finance.yahoo.com/news/bioprocess-technology-global-market-report-100400496.html&sa=U&ved=2ahUKEwiJ-MG9ovL_AhXJJbkGHTUFAe8QxfQBegQIAhAC&usg=AOvVaw0Eb1ETOk5ev0JeLlnwV-vv',\n",
       " '/search?q=yahoo+finance+SBI&ie=UTF-8&tbm=nws&ei=35qiZMmMLcnL5OUPtYqE-A4&start=10&sa=N',\n",
       " '/url?q=https://support.google.com/websearch%3Fp%3Dws_settings_location%26hl%3Den-IN&sa=U&ved=0ahUKEwiJ-MG9ovL_AhXJJbkGHTUFAe8Qty4IUw&usg=AOvVaw279wliDROhuPwDvVg2bBhO',\n",
       " '/url?q=https://accounts.google.com/ServiceLogin%3Fcontinue%3Dhttps://www.google.com/search%253Fq%253Dyahoo%252Bfinance%252BSBI%2526tbm%253Dnws%26hl%3Den&sa=U&ved=0ahUKEwiJ-MG9ovL_AhXJJbkGHTUFAe8Qxs8CCFQ&usg=AOvVaw2yupUzwMeN3glMD3e2eg3J',\n",
       " 'https://www.google.com/preferences?hl=en-IN&fg=1&sa=X&ved=0ahUKEwiJ-MG9ovL_AhXJJbkGHTUFAe8Q5fUCCFU',\n",
       " 'https://policies.google.com/privacy?hl=en-IN&fg=1',\n",
       " 'https://policies.google.com/terms?hl=en-IN&fg=1',\n",
       " '/setprefs?hl=en&prev=https://www.google.com/search?q%3Dyahoo%2Bfinance%2BSBI%26tbm%3Dnws%26pccc%3D1&sig=0_tVrVnQxxGzKf9ZKb9tNx2WSV-O8%3D&cs=2&sa=X&ved=0ahUKEwiJ-MG9ovL_AhXJJbkGHTUFAe8QjcAJCFY']"
      ]
     },
     "execution_count": 25,
     "metadata": {},
     "output_type": "execute_result"
    }
   ],
   "source": [
    "# every item in 'SBI'\n",
    "raw_urls['SBI']"
   ]
  },
  {
   "attachments": {},
   "cell_type": "markdown",
   "metadata": {},
   "source": [
    "##### 4.2 Define a function to remove unwanted urls "
   ]
  },
  {
   "cell_type": "code",
   "execution_count": 26,
   "metadata": {},
   "outputs": [],
   "source": [
    "# We need regex library for this operation\n",
    "import re"
   ]
  },
  {
   "cell_type": "code",
   "execution_count": 27,
   "metadata": {},
   "outputs": [],
   "source": [
    "# create an exclude list of unwanted urls\n",
    "# similar to stopwords in nltk library\n",
    "excludewords = ['maps', 'policies', 'preferences', 'accounts', 'support']"
   ]
  },
  {
   "cell_type": "code",
   "execution_count": 28,
   "metadata": {},
   "outputs": [],
   "source": [
    "def remove_urls(urls, excludewords):\n",
    "    valid = []\n",
    "    for url in urls: \n",
    "        if 'https://' in url and not any(exclude_word in url for exclude_word in excludewords):\n",
    "            result = re.findall(r'(https?://\\S+)', url)[0].split('&')[0]\n",
    "            valid.append(result)\n",
    "    return list(set(valid)) # this line of code removes duplicates from the final list"
   ]
  },
  {
   "cell_type": "code",
   "execution_count": 29,
   "metadata": {},
   "outputs": [],
   "source": [
    "cleaned_urls = {topic:remove_urls(raw_urls[topic], excludewords) for topic in topics}"
   ]
  },
  {
   "cell_type": "code",
   "execution_count": 30,
   "metadata": {},
   "outputs": [
    {
     "data": {
      "text/plain": [
       "{'SBI': ['https://finance.yahoo.com/news/cellusion-raises-2-83-billion-020000523.html',\n",
       "  'https://finance.yahoo.com/news/singapore-outlines-design-framework-interoperable-083244040.html',\n",
       "  'https://finance.yahoo.com/news/japans-sbi-holdings-raises-stakes-035049208.html',\n",
       "  'https://finance.yahoo.com/news/sepsis-market-size-share-grow-170000301.html',\n",
       "  'https://finance.yahoo.com/news/sbi-forms-joint-venture-set-092620906.html',\n",
       "  'https://finance.yahoo.com/news/condom-maker-draws-rush-buy-013000156.html',\n",
       "  'https://finance.yahoo.com/news/blockfills-integrates-zodia-custody-fulfill-140000019.html',\n",
       "  'https://finance.yahoo.com/news/bioprocess-technology-global-market-report-100400496.html',\n",
       "  'https://www.google.com/search?q%3Dyahoo%2Bfinance%2BSBI%26tbm%3Dnws%26pccc%3D1',\n",
       "  'https://finance.yahoo.com/news/toyota-braces-investor-admonition-over-150100479.html',\n",
       "  'https://finance.yahoo.com/news/qcp-capital-sbi-alpha-execute-113000676.html'],\n",
       " 'HDFC': ['https://www.google.com/search?q%3Dyahoo%2Bfinance%2BHDFC%26tbm%3Dnws%26pccc%3D1',\n",
       "  'https://uk.style.yahoo.com/indias-hdfc-hdfc-bank-merger-092647197.html',\n",
       "  'https://sg.finance.yahoo.com/news/hdfc-sell-90-stake-education-023605676.html',\n",
       "  'https://finance.yahoo.com/news/nifty-sensex-hit-life-peaks-011002671.html',\n",
       "  'https://finance.yahoo.com/news/monumental-monday-nifty-tops-19-003002000.html',\n",
       "  'https://sg.news.yahoo.com/indias-hdfc-bank-record-high-073100771.html',\n",
       "  'https://finance.yahoo.com/news/india-set-168-billion-finance-050459320.html',\n",
       "  'https://finance.yahoo.com/news/hdfc-hdfc-bank-173-billion-091809051.html',\n",
       "  'https://sg.finance.yahoo.com/news/rbi-relaxes-restrictions-hdfc-credila-142737855.html',\n",
       "  'https://sg.news.yahoo.com/analysis-hdfc-bank-hdfc-merger-080652629.html',\n",
       "  'https://finance.yahoo.com/news/personal-loans-market-grow-cagr-071500907.html']}"
      ]
     },
     "execution_count": 30,
     "metadata": {},
     "output_type": "execute_result"
    }
   ],
   "source": [
    "# removed all unwanted urls\n",
    "cleaned_urls"
   ]
  },
  {
   "attachments": {},
   "cell_type": "markdown",
   "metadata": {},
   "source": [
    "##### 4.3 A function to search and scrape through 'cleaned_urls'"
   ]
  },
  {
   "cell_type": "code",
   "execution_count": 36,
   "metadata": {},
   "outputs": [],
   "source": [
    "def search_scrape(links):\n",
    "    contents = []\n",
    "    for link in links: \n",
    "        r = requests.get(link)\n",
    "        soup = BeautifulSoup(r.text, 'html.parser')\n",
    "        paragraphs = soup.find_all('p')\n",
    "        text = [parah.text for parah in paragraphs]\n",
    "        words = ' '.join(text).split(' ')[:300]\n",
    "        content = ' '.join(words)\n",
    "        contents.append(content)\n",
    "    return contents"
   ]
  },
  {
   "cell_type": "code",
   "execution_count": 37,
   "metadata": {},
   "outputs": [],
   "source": [
    "article = {topic:search_scrape(cleaned_urls[topic]) for topic in topics}"
   ]
  },
  {
   "cell_type": "code",
   "execution_count": 38,
   "metadata": {},
   "outputs": [
    {
     "data": {
      "text/plain": [
       "{'SBI': ['TOKYO, June 07, 2023--(BUSINESS WIRE)--Cellusion Inc. (Head Office: Tokyo; CEO: Shin Hatou; hereinafter referred to as \"Cellusion\") announced that it has raised 2.83 billion yen (21 million USD) in Series C Round financing. New investors of the third-party allocation of shares in this Round are the investment limited partnerships operated by JIC Venture Growth Investments Co., Ltd., NISSAY CAPITAL Co., Ltd., SPARX Asset Management Co., Ltd. (Mirai Creation Fund III), Axil Capital Partners II LLP, Nikon-SBI Innovation Fund, and AIS CAPITAL LIMITED, while existing investors are the investment limited partnerships operated by The University of Tokyo Edge Capital Partners Co., Ltd., DBJ Capital Co., Ltd., SMBC Venture Capital Co., Ltd., and Gemseki Inc. Cellusion has raised 4.5 billion yen (33 million USD) in total to date. [Purpose and background of financing] In line with its mission of \"Regenerating Human Potential\" and vision of \"More Freedom and More Smiles to the World,\" Cellusion is promoting as its lead program the development of iPS cell-derived corneal endothelial cell substitute (hereinafter referred to as \"CLS001\") to resolve the challenge of corneal transplants, for which 13 million patients are reported to be on the waiting list worldwide, based on its proprietary patented technique of efficiently producing CLS001 from iPS cells. To date, Cellusion has reinforced its organizational structure for R&D, etc. and promoted overseas operations in the Greater China by executing a license agreement with Celregen, a subsidiary of Fosun Pharma, in September 2022. Furthermore, in March 2023, Dr. Shigeto Shimmura, a professor of Fujita Health University and Keio University as our joint research partners, announced the first transplant of CLS001 to a patient (First In Human Study), and Cellusion is also making significant progress in domestic R&D. In addition to further reinforcing its organizational structure for R&D, etc., Cellusion will use the raised',\n",
       "  'The Monetary Authority of Singapore (MAS), the city state’s central bank, has proposed a framework for designing open, interoperable networks for digital assets, developed jointly with the Bank for International Settlements and other financial institutions. See related article: Hong Kong? Singapore? Tokyo? Seoul? Dubai? The race is on for the Web3 hub of Asia | Part 1 “While MAS strongly discourages and seeks to restrict speculation in cryptocurrencies, we see much potential for value creation and efficiency gains in the digital asset ecosystem. This is why we are actively collaborating with the industry to foster a responsible and innovative digital asset ecosystem,” Leong Sing Chiong, Deputy Managing Director of Markets and Development, at MAS, said in a statement on Monday. MAS also announced an expansion of Project Guardian to test the potential of asset tokenization across more financial asset classes. The central bank has enlisted 11 financial institutions, including banking giants Citi, HSBC, DBS, Standard Chartered, which will lead industry pilots in asset and wealth management, foreign exchange, and fixed income. Citi, for instance, is testing the pricing and execution of digital asset trades on a distributed ledger, MAS said. Standard Chartered and Linklogis are working on an initial token offering platform to enable the issuance of asset-backed security tokens listed on the Singapore Exchange. SBI Digital Asset Holdings, UBS AG and DBS Bank are developing a pilot repurchasing agreement (repo) with natively issued digital bonds, MAS said. The initiative is aimed at increasing efficiency for cross-border distribution and settlement of capital market instruments on digital asset networks. Japan Financial Services Agency (JFSA) has also come onboard as the first overseas financial regulator to join Project Guardian, MAS said. JFSA and MAS will work on digital asset innovation for asset tokenization while safeguarding against risks to financial stability and integrity.',\n",
       "  \"TOKYO (Reuters) - Japanese online financial conglomerate SBI Holdings Inc said on Saturday it now has 53.74% shares of midsize lender SBI Shinsei Bank from 50.04% after a tender offer. The completion of the tender offer through Friday is setting up grounds for expected delisting of Shinsei to give more flexibility in returning 349 billion yen ($2.43 billion) in public funds its predecessor bank received two decades ago in a government bailout. SBI Holdings said last month it would take SBI Shinsei Bank private and launch the tender offer with plans to pay 2,800 yen per Shinsei share for 154.2 billion yen in total. SBI aims to become Japan's fourth-largest banking group. It already owns the country's largest online brokerage, an online bank and an asset manager and has been taking shares in smaller lenders to create a nationwide network. ($1 = 143.6800 yen) (Reporting by Satoshi Sugiyama; Editing by Jacqueline Wong)\",\n",
       "  \"According to DelveInsight's’ estimates, the sepsis market in 7MM is expected to show good positive growth, during the forecast period (2023–2032), mainly attributed to the increasing prevalence of female predominance and elderly population. In addition, the launch of emerging therapies such as Alirocumab, Imipenem, Cilastatin and Relebactam, Cefiderocol, SBI-101, and others by key companies will also propel the growth of the sepsis market in the coming years. New York, USA, June 29, 2023 (GLOBE NEWSWIRE) -- Sepsis Market Size and Share to Grow by 2032, Examines DelveInsight | Key Companies Developing Therapies - Regeneron, Merck, Shionogi, Sentien Biotechnologies, Basilea, Vivacelle Bio, Sanofi, BioAegis, Pharmazz According to DelveInsight's’ estimates, the sepsis market in 7MM is expected to show good positive growth, during the forecast period (2023–2032), mainly attributed to the increasing prevalence of female predominance and elderly population. In addition, the launch of emerging therapies such as Alirocumab, Imipenem, Cilastatin and Relebactam, Cefiderocol, SBI-101, and others by key companies will also propel the growth of the sepsis market in the coming years. DelveInsight’s Sepsis Market Insights report includes a comprehensive understanding of current sepsis treatment practices, sepsis emerging drugs, market share of individual therapies, and current and forecasted sepsis market size from 2019 to 2032, segmented into 7MM [the United States, the EU-4 (Italy, Spain, France, and Germany), the United Kingdom, and Japan]. Key Takeaways from the Sepsis Market Report Sepsis market is expected to grow positively owing to several underline factors during the study period (2019–2032). It is estimated that sepsis shows an increasing trend during the forecasted period (2023–2032) in the 7MM. Globally, leading sepsis companies such as Regeneron Pharmaceuticals, Merck Sharp & Dohme LLC, Shionogi Inc., Sentien Biotechnologies, Inc., Basilea Pharmaceutica, Vivacelle Bio, SciClone Pharmaceuticals, Grifols, Asahi Kasei Pharma, Sanofi, BioAegis Therapeutics, Pharmazz, ARTCLINE GmbH, Revimmune SAS, Inotrem,\",\n",
       "  '(Bloomberg) -- Japanese financial conglomerate SBI Holdings Inc. and climate tech startup Asuene Inc. have entered a joint venture to set up a carbon exchange in the Asian nation that will open around October. Most Read from Bloomberg George Santos Loses Bid to Shield the People Who Guaranteed His $500,000 Bail Dam Destroyed in the Dead of Night Upstages Ukraine’s Counteroffensive PGA Tour Bows to Saudi Rival in Shock Combination With LIV Golf These Are the World’s 20 Most Expensive Cities for Expats in 2023 Ukraine Dam Blast Blamed on Russia Tips War Into New Phase The aim is for the exchange, called Carbon EX, to become a regional trading hub with services being offered in English and Japanese, according to Kohei Nishiwada, chief executive officer of Asuene and the new bourse. The exchange will host a variety of contracts including private-sector voluntary credits and non-fossil certificates, he said in an interview on Wednesday. Separately, Carbon EX will start over-the-counter carbon credit trading this month. The new bourse is the latest in a wave of carbon-credit trading platforms that have launched across Asia as demand from companies seeking to offset their emissions explodes. However, slumping carbon prices and growing skepticism over how much voluntary offsets actually contribute to fighting climate change are raising questions about the long-term prospects of the exchanges. Read More: Global Carbon Markets Face Upheaval as Nations Remake the Rules The Carbon EX announcement follows Japan Exchange Group Inc., which began trial trading of carbon credits in the country last September. Offsets from renewable energy projects have dominated the small volume of trading on that bourse so far, and credits from so-called forest sinks appeared to be the most highly prized, BloombergNEF said in a report in October. --With assistance from Heesu Lee and Takashi Umekawa. Most',\n",
       "  \"(Bloomberg) -- Mankind Pharma Ltd. has garnered the most analyst coverage of any new Indian stock in at least 12 years, as investors rush to buy the drug and condom maker’s shares following a blockbuster initial public offering in May. Most Read from Bloomberg Alibaba Names Tsai Chairman, Wu CEO in Surprise Shake-Up These Are World’s Most Expensive Cities for High-Class Living Tucker Carlson's Fox Defense Crumbled When He Took Millions Singapore’s Grab Plans Biggest Job-Cut Round Since Pandemic Oxygen Wanes in Titanic-Wreck Submersible as Search Expands The company’s stock has surged more than 60% since listing, driving its market value to about $8.5 billion. It has already drawn nine buy ratings and one hold recommendation. That’s the most coverage in a similar span of time for an Indian stock that raised more than $500 million since November 2010, according to data compiled by Bloomberg. “It is a domestic pharma company, grown organically, with solid fundamentals,” said Shrikant Akolkar, an analyst at Asian Markets Securities Pvt. “Investors love a story like that.” Condom Maker Surges 32% on Debut in World’s Most Populous Nation Though most of the analysts covering the company recommend buying it, the consensus price target is already more than 10% below the current level amid the stock’s stellar run. The shares are trading at about 54 times trailing 12-month earnings, compared with 31 times for India’s benchmark pharmaceutical index. Mankind’s stock jumped almost 32% in its debut. “Everyone was waiting to buy the stock as their valuations during the listing made sense,” said Vishal Avinash Manchanda, vice president of institutional research at Systematix Group, who has the only hold rating on the stock. “But I think they are a bit stretched now.” In its favor, Mankind has name recognition among Indian consumers and investors due to its\",\n",
       "  'London, UK - (NewMediaWire) - June 29, 2023 -- BlockFills, a pioneer innovator in the digital asset sector for liquidity provision, and cutting-edge SaaS tech, has announced their integration with digital asset servicing provider Zodia Custody to provide secure, registered digital asset market-access to its customers worldwide; fulfilling the demand for compliance-approved, best-in-class digital asset custody solutions on an FCA-registered platform. The partnership, equipping BlockFills with access to the UK-domiciled, FCA-registered digital asset custody platform, will designate BlockFills as a trusted component of the lifecycle for institutions that may require regulated custody and higher levels of regulatory compliance. Additionally, Zodia Custody clients will acquire access to BlockFills\\' unparalleled digital asset technology and liquidity across spot, derivatives and credit markets. \"Upper-echelon financial institutions, funds, and family offices have increasingly requested that BlockFills integrate with a UK-domiciled, FCA registered custody provider with cutting-edge technology,\" said Nick Hammer, co-founder, and CEO of BlockFills. \"The formation of this relationship is our answer to our clients looking for a highly regulated and secure custody solution.\" Patrick Zielbauer, BlockFills\\' Managing Director of Sales, continues: \"The combination of Zodia Custody\\'s focus on loss prevention, proof of ownership, and segregation of duty with the established custody approach championed by Standard Chartered and Northern Trust is the solution our clients have asked for.\" \"We are elated to be partnering with BlockFills to provide institutions with a safe passage into the digital asset market; it is essential to offer both the highest levels of security and compliance,\" said Julian Sawyer, CEO of Zodia Custody. \"Through Zodia Custody, BlockFills\\' customers will access cutting-edge, digital asset-native technology including cold-storage security with 24/7, instant availability alongside bank-level compliance and governance. They will also benefit from full safeguarding and segregation mirroring the UK CASS principles. The addition of a market participant of BlockFills\\' pedigree',\n",
       "  'Major players in the bioprocess technology market are Sartorius AG, Danaher Corporation, Thermo Fisher Scientific Inc., Lonza Group AG, F. Hoffmann-La Roche Ltd., Becton, Dickinson, and Company, Merck KGa, GE Healthcare (General Electric Company), Eppendorf AG, Bio-Rad Laboratories, Alere Inc. New York, June 21, 2023 (GLOBE NEWSWIRE) -- Reportlinker.com announces the release of the report \"Bioprocess Technology Global Market Report 2023\" - https://www.reportlinker.com/p06466420/?utm_source=GNW , Fujifilm Healthcare Americas Corporation, Catalent Inc., Asahi Kasei Medical America Inc., Advanced Instruments, and Nova Biomedical Corporation.The global bioprocess technology market is expected to grow from $18.70 billion in 2022 to $21.90 billion in 2023 at a compound annual growth rate (CAGR) of 17.1 %. The Russia-Ukraine war disrupted the chances of global economic recovery from the COVID-19 pandemic, at least in the short term. The war between these two countries has led to economic sanctions on multiple countries, a surge in commodity prices, and supply chain disruptions, causing inflation across goods and services and affecting many markets across the globe. The bioprocess technology market is expected to reach $39.16 billion in 2027 at a CAGR of 15.6%.The bioprocess technology market consists of revenues earned by entities by providing biologics safety testing, and tangential flow filtration.The market value includes the value of related goods sold by the service provider or included within the service offering.The bioprocess technology market also includes sales of instruments, consumables, and accessories that include bioprocess analyzers, osmometers, incubators, and bioreactors used in bioprocessing technology services.Values in this market are ‘factory gate’ values, that is the value of goods sold by the manufacturers or creators of the goods, whether to other entities (including downstream manufacturers, wholesalers, distributors, and retailers) or directly to end customers.The value of goods in this market includes related services sold by the creators of the goods.Bioprocessing technology is the',\n",
       "  '© 2023 - Privacy - Terms',\n",
       "  '(Bloomberg) -- Toyota Motor Corp. posted its biggest two-day gain in three years, fueled by an aggressive messaging campaign around the Japanese carmaker’s electric-vehicle strategy, a drama-free shareholders’ meeting and a broader global stock rally. Most Read from Bloomberg Elizabeth Holmes Objects to $250-a-Month Victim Payments After Prison Instant Pot and Pyrex Maker Instant Brands Files Bankruptcy US Inflation Slows, Giving Room for Fed to Pause Rate Hikes Putin’s Economic Forum Puts Russia’s Isolation on Display Americans Say They Need $2.2 Million to Be Considered Wealthy Shares in the world’s largest carmaker are up 12% since Monday, their biggest jump since March of 2020, with the reappointment of Chairman Akio Toyoda adding to the buoyant mood. While Toyota stood out, it was a broadly a good day for automakers in the region following gains by peers in the US, where Tesla Inc. has climbed for 13 straight days. In a well-timed move just before the annual meeting, Toyota released details from a day of technology briefings held last week at its research facility near Mount Fuji. Analysts and journalists were given a day of test drives and presentations aimed at bolstering confidence in the company’s ability to sell 1.5 million battery EVs annually by 2026, and 3.5 million by 2030. Read More: Toyota’s Tech Chief Lays Out a Path to Selling Millions of EVs The public-relations offensive contrasted from years of Toyota executives speaking cautiously about how quickly car buyers will be ready to go all-electric. The manufacturer’s management team talked about innovations in the pipeline for next-generation EVs, ranging from longer-range batteries to slicker aerodynamics and more efficient production processes. “Foreign investors with lower familiarity with Japan are looking for stocks to put money in and Toyota is very big, liquid and cheap — and has underperformed over the',\n",
       "  'Singapore-based QCP Capital and Japan-based SBI Alpha Trading on Thursday said they executed an over-the-counter (OTC) crypto options trade on a regulated platform without involving a clearing house, the first such transaction in the digital asset industry. The so-called uncleared trade negotiated directly between QCP and SBI Alpha used bitcoin (BTC) as collateral and was executed on Clear Markets, operators of a U.S. and U.K.-based regulated electronic marketplace, according to a press release shared with CoinDesk. London-based Zodia Custody acted as a custodian for collateral while Corda Network, developed by R3, played a role in risk management. The trade used a multi-custodian collateral network to ensure the assets held in custody remain separate from the custodian\\'s assets. That way, the collateral remains safe if the custodian goes bankrupt. The trading parties collected the collateral at the start of the transaction and locked the same in an account at an independent custodian, which was controlled by all three parties to mitigate the counterparty risk stemming from the absence of a clearing house. All exchange-traded derivatives and most over-the-counter derivatives involve a clearing house that validates and finalizes the transaction, ensuring the parties to the trade honor their contractual obligations. QCP and SBI Alpha also introduced a feature allowing real-time bolstering of collateral by periodic payments through the blockchain while protecting the collateral from loss in case of counterparty bankruptcy. The unique risk management technique is consistent with International Swaps and Derivatives Association\\'s (ISDA) requirements for uncleared derivatives in the multi-trillion dollar fiat currency swap business. \"This method of managing counterparty credit exposure, derived from traditional financial markets practices, eliminates significant risks taken by counterparties of FTX and other crypto trading units that have collapsed,\" the press release said. \"This reduces the cost of moving the collateral and enables increased frequency of'],\n",
       " 'HDFC': ['© 2023 - Privacy - Terms',\n",
       "  \"BENGALURU (Reuters) - Housing Development Finance Corporation (HDFC) and HDFC Bank are working towards completing the merger of the two financial behemoths by July 1 and may set July 13 as the record date for swapping shares, HDFC said in an exchange filing on Tuesday. HDFC Chairman Deepak Parekh had said in a CNBC-TV18 report that both the boards will meet on June 30, which would also be the last board meeting of HDFC, and its shares will go off market effective July 13. However, these dates are tentative and will depend on the completion of certain formalities, HDFC said in the filing. Once the board of directors of HDFC and HDFC Bank finalizes the effective date of the scheme as well as the record date, it would be intimated to stock exchanges, it added. HDFC had, in April last year, announced a $40 billion deal to merge with HDFC Bank, the country's biggest ever, which will create a financial services titan to better tap the rising demand for credit. As per the deal, shareholders in HDFC will receive 42 shares of the bank for every 25 shares held, giving them ownership of 41% in the lender. The merger has already been approved by the Reserve Bank of India, National Company Law Tribunal, Pension Fund Regulatory and Development Authority (PFRDA), Securities and Exchange Board of India (SEBI), the Competition Commission of India and India's stock exchanges. (Reporting by Manvi Pant in Bengaluru and Siddhi Nayak in Mumbai; Editing by Savio D'Souza, Dhanya Ann Thoppil and Eileen Soreng)\",\n",
       "  'Thank you for your patience. Our engineers are working quickly to resolve the issue.',\n",
       "  \"Investing.com -- Indian market indices made a higher opening on Wednesday following a strong rebound on Wall Street in the overnight session on the back of upbeat economic data and continued to rise in morning trade. The benchmark index Nifty 50 recorded a new all-time high on Wednesday and surpassed the 18,900 mark at 18,908.15 points, while the 30-scrip Sensex also hit a new peak of 63,716 points in the session. At 00:49 ET (04:49 GMT), headliner Nifty gained 0.4% to 18,891.1 levels and Sensex added 226.1 points or 0.36%. The market fear barometer India VIX rose 2.5% to 11.05 levels in the session. Barring Nifty Media, all sectoral indices listed under the Nifty umbrella traded in the green on Wednesday, led by a sharp 1.3% uptick in Nifty Metal, while Nifty Bank advanced 0.2%. In a note provided to Investing.com, Dr. V.K. Vijayakumar, chief investment strategist at Geojit Financial Services, points out that the high market valuation continues to be a concern for the near-term, and advises that investors could book some profits at record highs. Metal stocks led the rally on the Nifty pack, with the heavyweight Adani Enterprises’ (NS:ADEL) stock jumping 5%, while JSW Steel (NS:JSTL) and Adani Ports (NS:APSE) gained 2% in the morning trade. On the flip side, banking and financial stocks exerted pressure on Dalal Street, as HDFC Life (NS:HDFL), Kotak Mahindra (NS:KTKM), Axis Bank (NS:AXBK), and ICICI Bank (NS:ICBK) shed the most on the benchmarks. Related Articles Nifty, Sensex hit new life peaks, Nifty cracks past 18,900 mark, metals shine Nissan will not fill COO position left open by Gupta's departure Asia shares subdued, yen shunned as euro shines\",\n",
       "  'Investing.com -- Indian equity benchmark indices extended their rally to the first day of the September quarter and hit fresh record peaks for the third consecutive session in early trade on Monday amid strong cues from Asian peers and triggers indicating a slowdown in inflation as the data-packed week begins. The benchmark index Nifty 50 scaled a new all-time high on Monday, surpassing the 19,300 mark at 19,318 points, while the 30-scrip Sensex also hit a new peak of 65,075.28 points in the session. The bull ride extended on Dalal Street and the two headlines continued to record fresh peaks for the third straight session, with Nifty rallying for the fifth day in a row and Sensex for the fourth day on July 3, 2023. At 00:15 ET (04:15 GMT), Nifty surged 0.62% and Sensex jumped 415.95 points or 0.64%. The market fear barometer India VIX spiked 9.1% to 11.78 levels in the session. Gains across the domestic market were led by banking and financial packs, led by an up to 3% jump in HDFC twins, while JSW Steel (NS:JSTL) and UltraTech Cement (NS:ULTC) supported the Nifty index. Market heavyweights PowerGrid (NS:PGRD), Bajaj Auto (NS:BAJA), UPL (NS:UPLL) and Maruti (NS:MRTI) exerted pressure on the benchmark. Most sectoral indices listed under the Nifty umbrella traded in the green, led by Nifty Financial Services and Nifty Bank, while Nifty Pharma dipped 0.15% while writing. Related Articles Monumental Monday: Nifty tops 19,300, Sensex past 65,000, record new life highs Chinese EV stocks rally as June deliveries spike Australian firm sues Twitter for $665,000 for not paying bills',\n",
       "  'MUMBAI (Reuters) - Shares of India\\'s HDFC Bank hit an all-time high on Monday after it completed its merger with parent Housing Development Finance Corp (HDFC), entering the coveted list of the world\\'s top 10 banks by market capitalisation. HDFC Bank\\'s shares jumped 3.3% to a record high of 1,757.50 rupees, while HDFC\\'s shares rose 3.7% to 2,927.40 rupees, their highest since April 2022, when the merger was first announced. The $40-billion merger-the biggest in India\\'s corporate history-closed on June 30 to create a financial behemoth that can now underwrite larger ticket loans, including those for infrastructure. Since the deal was announced, the private lender\\'s shares have risen about 14.5%, while the housing finance company\\'s stock has gained over 17%, both outperforming the roughly 9% rise in the benchmark Nifty 50 index in that period. That gives the combined entity a market capitalisation of around $157 billion, Reuters calculations showed, more than top global lenders such as Morgan Stanley and HSBC Holdings. Still, Morgan Stanley believes HDFC Bank\\'s valuation is attractive. \"The merger is synergistic. HDFC Bank gets access to secured and long-tenor retail mortgage products as well as a large customer base,\" the brokerage said in a note dated July 2. It expects the merged entity\\'s loan growth to accelerate to 17%-18% in four quarters, from 15%-16% currently, particularly as mortgage loan growth accelerates. The brokerage resumed coverage of HDFC Bank with an \\'overweight\\' rating and a target price of 2,110 rupees per share, implying a 26% upside to its last close. Sashidhar Jagdishan, managing director and CEO of HDFC Bank, has an equally bullish target. \"The pace at which we aim to grow, we could be creating a new HDFC Bank every 4 years,\" Jagdishan told employees over the weekend. The combined entity, with a large and growing',\n",
       "  '(Bloomberg) -- The merger of India’s most valuable lender and the nation’s largest mortgage financier to create what could be the world’s fifth-most valuable bank is inching closer to completion, with just one key step remaining that investors are watching for closely. Most Read from Bloomberg Elizabeth Holmes Objects to $250-a-Month Victim Payments After Prison Instant Pot and Pyrex Maker Instant Brands Files for Bankruptcy Arm Courts Intel as Anchor Investor in Upcoming IPO China Weighs Broad Stimulus With Property Support, Rate Cuts Oil Traders Are Daring to Defy Market Kingpin Saudi Arabia Announcement of the so called ‘record date’ — or the cut-off day set for investors — for the swapping of shares of Housing Development Finance Corp. for HDFC Bank Ltd. is expected within three weeks. The merged entity is likely to trade under the HDFC Bank ticker before July 20, bringing an end to the process that began in April 2022. The merger is unprecedented in India, creating a bank worth $168 billion and impacting over tens of millions of customers and shareholders across the two companies apart from group insurance and asset management businesses. A central team, with 3 members from each company, and nearly three dozen committees worked on a business integration plan. Meanwhile, legal approvals were sought from shareholders, banking, securities market and competition regulators as well as stock exchanges with the final nod granted by the company law tribunal in March. The approvals got done in good time and the integration of technology platforms is at an advanced stage, Keki Mistry, chief executive officer of the mortgage lender told Bloomberg News last week. “The target is for the merger to be effective early July,” he said. Final Step Once the merger is effective, a cut-off date will be announced to determine HDFC shareholders',\n",
       "  '(Bloomberg) -- Fund managers in India have been jumping into a “lucrative” arbitrage trade ahead of a mega-merger that will see the nation’s largest private sector lender HDFC Bank Ltd. absorb its parent Housing Development Finance Corp. Most Read from Bloomberg Student Loan-Relief Backers Warn Biden ‘Failure Isn’t an Option’ Wagner Chief Lands in Belarus as Putin Says ‘Civil War’ Averted Putin Blasts Wagner ‘Traitors’ as Prigozhin Defends Revolt Pickleball Injuries May Cost Americans Nearly $400 Million This Year, According to UBS Russia Latest: Mutiny Leader Prigozhin Arrives in Belarus With the merger likely to be effective July 1, domestic equity mutual fund managers bought a net $570 million worth HDFC shares in May, the biggest monthly purchases since at least January 2016, according to Prime Database. At the same time, they sold HDFC Bank shares worth $370 million, the most since February 2017. The deal will unite the two companies that had a combined market value of about $173 billion as of Monday’s close. READ: India Set for Finance Behemoth as HDFC Merger Nears In a kind of “spread trade,” local funds have been buying parent HDFC shares as a way to reduce the cost of acquiring shares in HDFC Bank. Once the deal is complete, HDFC shareholders will get 42 shares of HDFC Bank for 25 shares held, based on the share-swap ratio announced in April last year. Capitalizing on the ratio, the trade effectively enables an investor to buy shares in the merged entity at a discount to HDFC Bank’s current price. While the spread has reduced to 1% as of Monday from 5.6% a year ago, it can still make a difference for funds with large investments seeking to increase returns for their unit holders. “There is lot of competition among fund managers, and any opportunity',\n",
       "  'Thank you for your patience. Our engineers are working quickly to resolve the issue.',\n",
       "  'By Dharamraj Dhutia and Bhakti Tambe MUMBAI (Reuters) - The merger of Housing Development Finance Corp and HDFC Bank is set to shake up the debt fundraising market for non-bank financiers in India as the exit of a large borrower will leave investors searching for other options, at least six mutual fund managers said. The void left by HDFC could benefit other housing finance companies, which will now be able to borrow funds at a lower cost as supply diminishes even though demand for such debt remains steady, they told Reuters. A $40-billion merger between the two entities is set to conclude next month, following which HDFC will stop issuing debt and rely on the merged bank\\'s deposits to continue lending. Debt issued by housing finance companies \"should start commanding a premium again over the next few weeks, as HDFC was the largest supplier in the space,\" said Raju Sharma, head of fixed income at IDBI Mutual Fund. Under the rules of the Securities and Exchange Board of India (SEBI), mutual funds can invest 30% of their assets under management in debt securities issued by non-banking financial companies (NBFC) and housing finance companies (HFC), with a 20% ceiling on papers of NBFCs. Yields on debt issued by HFCs could fall by about 10 basis points in the coming weeks, said Ajay Manglunia, managing director and head of investment grade group at JM Financial. Interest rates on AAA-rated HFC bonds are currently in the range of 7.65-7.80% for three-year to five-year tenors. Outstanding bonds of HDFC are estimated to be 2.64 trillion rupees ($32.18 billion), according to Crisil and Reuters data. In the fiscal year 2022 through 2023, HDFC raised 784.15 billion from the debt market, higher than the 500 billion rupees a year before. It has raised 460.62 billion rupees',\n",
       "  \"NEW YORK, June 28, 2023 /PRNewswire/ -- According to Technavio, the personal loans market\\xa0size is estimated to grow by USD\\xa0476.25 billion\\xa0from 2022 to 2027. The market is estimated to grow at a CAGR of 11.79% during the forecast. Download a Sample Report now! Personal Loans Market\\xa0Insights - Vendors: 15+, Including Axis Bank Ltd., Bajaj Finserv Ltd., Canara Bank, Cholamandalam Investment and Finance Co. Ltd., Citigroup Inc., Finbud Financial Services Pvt Ltd, HDFC Bank Ltd., HSBC Holdings Plc, ICICI Bank Ltd., IDBI Bank Ltd., Indian Overseas Bank, Mahindra and Mahindra Financial Services Ltd., PPF Group, Punjab National Bank, State Bank of India, Tata Sons Pvt. Ltd., UCO BANK, Union Bank of India, Whizdm Innovations Pvt. Ltd., and Yes Bank Ltd. among others Coverage:\\xa0Parent market analysis; key drivers, major trends, and challenges; customer and vendor landscape; vendor product insights and recent developments; key vendors; and market positioning of vendors Segments:\\xa0Application (Short term loans, Medium term loans, and Long term loans), Type (P2P marketplace lending and Balance sheet lending), and Geography (North America, Europe, APAC, South America, and Middle East and Africa) To understand more about the Personal Loans Market, request a\\xa0sample report Personal loans market - Vendor Insights The growing competition in the market is compelling vendors to adopt various growth strategies such as promotional activities and spending on advertisements to improve the visibility of their services. Technavio report analyzes the market's competitive landscape and offers information on several market vendors including -Axis Bank Ltd., Bajaj Finserv Ltd., Canara Bank, Cholamandalam Investment and Finance Co. Ltd., Citigroup Inc., Finbud Financial Services Pvt Ltd, HDFC Bank Ltd., HSBC Holdings Plc, ICICI Bank Ltd., IDBI Bank Ltd., Indian Overseas Bank, Mahindra and Mahindra Financial Services Ltd., PPF Group, Punjab National Bank, State Bank of India, Tata Sons Pvt. Ltd., UCO BANK, Union Bank of\"]}"
      ]
     },
     "execution_count": 38,
     "metadata": {},
     "output_type": "execute_result"
    }
   ],
   "source": [
    "# All the required content from the web is here\n",
    "article"
   ]
  },
  {
   "attachments": {},
   "cell_type": "markdown",
   "metadata": {},
   "source": [
    "##### 4.4 A function to summarize texts generated from each url."
   ]
  },
  {
   "cell_type": "code",
   "execution_count": 39,
   "metadata": {},
   "outputs": [],
   "source": [
    "def summarize(article):\n",
    "    summaries = []\n",
    "    for item in article:\n",
    "        input_item = tokenizer.encode(item, return_tensors='pt')\n",
    "        output = model.generate(input_item, max_length=55, num_beams=5, early_stopping=True)\n",
    "        summary = tokenizer.decode(output[0], skip_special_tokens=True)\n",
    "        summaries.append(summary)\n",
    "    return summaries"
   ]
  },
  {
   "cell_type": "code",
   "execution_count": 40,
   "metadata": {},
   "outputs": [],
   "source": [
    "summaries = {topic:summarize(article[topic]) for topic in topics}"
   ]
  },
  {
   "cell_type": "code",
   "execution_count": 41,
   "metadata": {},
   "outputs": [
    {
     "data": {
      "text/plain": [
       "{'SBI': ['Series C round of financing was led by JIC Venture Growth Investments. Cellusion is promoting as its lead program the development of iPS cell-derived corneal cell substitute',\n",
       "  'City state’s central bank enlists 11 financial institutions. JFSA becomes first overseas regulator to join MAS’ Project Guardian',\n",
       "  'Online banking giant to take Shinsei private. Shares of smaller lenders are also being sold to raise cash',\n",
       "  'The sepsis market in 7MM is expected to show good positive growth, during the forecast period.',\n",
       "  'Carbon EX to start over-the-counter trading this month. Exchange to offer services in English and Japanese',\n",
       "  'Shares have surged more than 60% since listing in May. Most analysts covering the company recommend buying it',\n",
       "  'BlockFills, pioneer in the digital asset sector for liquidity provision, announces partnership with Zodia Custody.',\n",
       "  'Bioprocess technology market is expected to grow from $18.70 billion in 2022 to $21.90 billion in 2023.',\n",
       "  'All images are copyrighted.',\n",
       "  'Toyota posts biggest two-day jump in three years. Shareholders’ meeting held without drama amid stock rally',\n",
       "  'Two firms executed the first such trade without a clearing house. Trade was negotiated directly between QCP and SBI Alpha'],\n",
       " 'HDFC': ['All images are copyrighted.',\n",
       "  'Shareholders in HDFC will receive 42 shares of the bank for every 25 shares.',\n",
       "  'We are aware of the issue and are working to resolve it.',\n",
       "  'The benchmark index 50 recorded a new all-time high on Wednesday. Metal stocks led the rally on Wednesday, with Adani Enterprises up 5%',\n",
       "  'Markets VIX jumps as much as 9.1% on Monday. Market fear index rises as much as 9.1% on Monday',\n",
       "  \"Merger creates India's biggest bank with market capitalisation of $157 billion. Private lender expects loan growth to accelerate\",\n",
       "  'Merger of India’s most valuable lender and largest mortgage financier is expected. Final nod from company law tribunal in March awaited',\n",
       "  'Local funds bought a net $570 million of HDFC shares in May. Spread on HDFC Bank shares has narrowed to 1% from 5.6% a year ago',\n",
       "  'We are aware of the issue and are working to resolve it.',\n",
       "  'HDFC to stop issuing debt, rely on bank deposits. Yields on HFC bonds could fall about 10 basis points, JM Financial says',\n",
       "  'Technavio has published a new report on the personal loans market in India.']}"
      ]
     },
     "execution_count": 41,
     "metadata": {},
     "output_type": "execute_result"
    }
   ],
   "source": [
    "# summary of each webpage is here\n",
    "summaries"
   ]
  },
  {
   "attachments": {},
   "cell_type": "markdown",
   "metadata": {},
   "source": [
    "##### 4.5 Sentiment Analysis"
   ]
  },
  {
   "cell_type": "code",
   "execution_count": 42,
   "metadata": {},
   "outputs": [
    {
     "name": "stderr",
     "output_type": "stream",
     "text": [
      "No model was supplied, defaulted to distilbert-base-uncased-finetuned-sst-2-english and revision af0f99b (https://huggingface.co/distilbert-base-uncased-finetuned-sst-2-english).\n",
      "Using a pipeline without specifying a model name and revision in production is not recommended.\n",
      "Xformers is not installed correctly. If you want to use memory_efficient_attention to accelerate training use the following command to install Xformers\n",
      "pip install xformers.\n"
     ]
    }
   ],
   "source": [
    "# easy method : transformers and pipeline\n",
    "from transformers import pipeline\n",
    "sentiment = pipeline('sentiment-analysis')"
   ]
  },
  {
   "cell_type": "code",
   "execution_count": 43,
   "metadata": {},
   "outputs": [],
   "source": [
    "# creating a scores dictionary to store sentiment scores\n",
    "scores = {topic:sentiment(summaries[topic]) for topic in topics}"
   ]
  },
  {
   "cell_type": "code",
   "execution_count": 44,
   "metadata": {},
   "outputs": [
    {
     "data": {
      "text/plain": [
       "{'SBI': [{'label': 'NEGATIVE', 'score': 0.951328694820404},\n",
       "  {'label': 'POSITIVE', 'score': 0.9832780957221985},\n",
       "  {'label': 'NEGATIVE', 'score': 0.9826846718788147},\n",
       "  {'label': 'POSITIVE', 'score': 0.9992499947547913},\n",
       "  {'label': 'NEGATIVE', 'score': 0.977104902267456},\n",
       "  {'label': 'POSITIVE', 'score': 0.997575581073761},\n",
       "  {'label': 'POSITIVE', 'score': 0.9941131472587585},\n",
       "  {'label': 'POSITIVE', 'score': 0.9876918196678162},\n",
       "  {'label': 'NEGATIVE', 'score': 0.9880996346473694},\n",
       "  {'label': 'NEGATIVE', 'score': 0.7681273221969604},\n",
       "  {'label': 'NEGATIVE', 'score': 0.9764251112937927}],\n",
       " 'HDFC': [{'label': 'NEGATIVE', 'score': 0.9880996346473694},\n",
       "  {'label': 'POSITIVE', 'score': 0.5510118007659912},\n",
       "  {'label': 'POSITIVE', 'score': 0.9979088306427002},\n",
       "  {'label': 'POSITIVE', 'score': 0.9924783706665039},\n",
       "  {'label': 'NEGATIVE', 'score': 0.9915587902069092},\n",
       "  {'label': 'NEGATIVE', 'score': 0.5101869702339172},\n",
       "  {'label': 'POSITIVE', 'score': 0.9471595883369446},\n",
       "  {'label': 'NEGATIVE', 'score': 0.9839866161346436},\n",
       "  {'label': 'POSITIVE', 'score': 0.9979088306427002},\n",
       "  {'label': 'NEGATIVE', 'score': 0.9984105825424194},\n",
       "  {'label': 'POSITIVE', 'score': 0.9918416738510132}]}"
      ]
     },
     "execution_count": 44,
     "metadata": {},
     "output_type": "execute_result"
    }
   ],
   "source": [
    "scores"
   ]
  }
 ],
 "metadata": {
  "kernelspec": {
   "display_name": "py37gpu",
   "language": "python",
   "name": "python3"
  },
  "language_info": {
   "codemirror_mode": {
    "name": "ipython",
    "version": 3
   },
   "file_extension": ".py",
   "mimetype": "text/x-python",
   "name": "python",
   "nbconvert_exporter": "python",
   "pygments_lexer": "ipython3",
   "version": "3.7.16"
  },
  "orig_nbformat": 4
 },
 "nbformat": 4,
 "nbformat_minor": 2
}
